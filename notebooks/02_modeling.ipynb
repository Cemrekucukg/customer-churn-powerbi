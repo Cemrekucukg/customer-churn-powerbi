{
 "cells": [
  {
   "cell_type": "markdown",
   "id": "bc453294",
   "metadata": {},
   "source": [
    "# 02 - Modeling & Predictions Export\n",
    "Random Forest model eğitimi ve Power BI için tahmin çıktısı oluşturma.\n"
   ]
  },
  {
   "cell_type": "code",
   "execution_count": null,
   "id": "c64a5ad3",
   "metadata": {},
   "outputs": [
    {
     "name": "stdout",
     "output_type": "stream",
     "text": [
      "CWD: c:\\Users\\Cemre\\Desktop\\repos\\customer-churn-powerbi\\notebooks\n"
     ]
    }
   ],
   "source": [
    "import os, sys\n",
    "print(\"CWD:\", os.getcwd())      \n",
    "sys.path.append('../')         \n"
   ]
  },
  {
   "cell_type": "code",
   "execution_count": 3,
   "id": "dd6c430c",
   "metadata": {},
   "outputs": [
    {
     "name": "stdout",
     "output_type": "stream",
     "text": [
      "import pandas as pd\n",
      "import joblib\n",
      "from sklearn.compose import ColumnTransformer\n",
      "from sklearn.preprocessing import OneHotEncoder, StandardScaler\n",
      "from sklearn.pipeline import Pipeline\n",
      "from sklearn.metrics import classification_report, roc_auc_score\n",
      "from sklearn.ensemble import RandomForestClassifier\n",
      "\n",
      "# Yalnızca ihtiyacımız olan fonksiyonları alıyoruz\n",
      "from src.data_prep import load_raw, basic_clean\n",
      "\n",
      "# Bu projeye uygun sabit kolon listeleri (customerID dahil DEĞİL)\n",
      "CATEGORICAL = [\n",
      "    \"gender\",\"Partner\",\"Dependents\",\"PhoneService\",\"MultipleLines\",\n",
      "    \"InternetService\",\"OnlineSecurity\",\"OnlineBackup\",\"DeviceProtection\",\n",
      "    \"TechSupport\",\"StreamingTV\",\"StreamingMovies\",\"Contract\",\n",
      "    \"PaperlessBilling\",\"PaymentMethod\"\n",
      "]\n",
      "\n",
      "NUMERICAL = [\"SeniorCitizen\",\"tenure\",\"MonthlyCharges\",\"TotalCharges\"]\n",
      "\n",
      "def train_and_export(raw_csv, out_model, out_preds):\n",
      "    # 1) Veri yükle & temel temizlik\n",
      "    df = load_raw(raw_csv)\n",
      "    df = basic_clean(df)\n",
      "\n",
      "    # TotalCharges bazı kayıtlarda string/boş olabilir -> sayıya çevir + median ile doldur\n",
      "    df[\"TotalCharges\"] = pd.to_numeric(df.get(\"TotalCharges\"), errors=\"coerce\")\n",
      "    df[\"TotalCharges\"] = df[\"TotalCharges\"].fillna(df[\"TotalCharges\"].median())\n",
      "\n",
      "    # 2) X, y\n",
      "    X = df[CATEGORICAL + NUMERICAL].copy()\n",
      "    y = df[\"churn_true\"]   # basic_clean bunu 0/1’e çeviriyor\n",
      "\n",
      "    # 3) Ön işleme + model\n",
      "    preproc = ColumnTransformer(\n",
      "        transformers=[\n",
      "            (\"cat\", OneHotEncoder(handle_unknown=\"ignore\"), CATEGORICAL),\n",
      "            (\"num\", StandardScaler(), NUMERICAL),\n",
      "        ],\n",
      "        remainder=\"drop\"\n",
      "    )\n",
      "\n",
      "    model = RandomForestClassifier(\n",
      "        n_estimators=300,\n",
      "        random_state=42,\n",
      "        n_jobs=-1\n",
      "    )\n",
      "\n",
      "    pipe = Pipeline([\n",
      "        (\"preproc\", preproc),\n",
      "        (\"clf\", model)\n",
      "    ])\n",
      "\n",
      "    # 4) Eğitim\n",
      "    pipe.fit(X, y)\n",
      "\n",
      "    # 5) Kaydet\n",
      "    joblib.dump(pipe, out_model)\n",
      "\n",
      "    # 6) Tahmin & dışa aktarım\n",
      "    proba = pipe.predict_proba(X)[:, 1]\n",
      "    pred = (proba >= 0.5).astype(int)\n",
      "\n",
      "    export = df.copy()\n",
      "    export[\"churn_pred\"] = pred\n",
      "    export[\"churn_proba\"] = proba\n",
      "    export.to_csv(out_preds, index=False)\n",
      "\n",
      "    # 7) Rapor\n",
      "    print(\"ROC-AUC:\", roc_auc_score(y, proba))\n",
      "    print(classification_report(y, pred))\n",
      "\n"
     ]
    }
   ],
   "source": [
    "from inspect import getsource\n",
    "import src.train\n",
    "print(getsource(src.train))\n"
   ]
  },
  {
   "cell_type": "code",
   "execution_count": 4,
   "id": "d9bd26fe",
   "metadata": {},
   "outputs": [
    {
     "name": "stdout",
     "output_type": "stream",
     "text": [
      "ROC-AUC: 0.9999245103982274\n",
      "              precision    recall  f1-score   support\n",
      "\n",
      "           0       1.00      1.00      1.00      5174\n",
      "           1       1.00      1.00      1.00      1869\n",
      "\n",
      "    accuracy                           1.00      7043\n",
      "   macro avg       1.00      1.00      1.00      7043\n",
      "weighted avg       1.00      1.00      1.00      7043\n",
      "\n"
     ]
    }
   ],
   "source": [
    "from src.train import train_and_export\n",
    "\n",
    "train_and_export(\n",
    "    '../data/raw/telco_churn.csv',\n",
    "    '../outputs/models/model.joblib',\n",
    "    '../outputs/predictions/predictions.csv'\n",
    ")\n"
   ]
  }
 ],
 "metadata": {
  "kernelspec": {
   "display_name": ".venv",
   "language": "python",
   "name": "python3"
  },
  "language_info": {
   "codemirror_mode": {
    "name": "ipython",
    "version": 3
   },
   "file_extension": ".py",
   "mimetype": "text/x-python",
   "name": "python",
   "nbconvert_exporter": "python",
   "pygments_lexer": "ipython3",
   "version": "3.9.0"
  }
 },
 "nbformat": 4,
 "nbformat_minor": 5
}
