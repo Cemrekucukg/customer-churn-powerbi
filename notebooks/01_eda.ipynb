{
 "cells": [
  {
   "cell_type": "markdown",
   "id": "a91010ac",
   "metadata": {},
   "source": [
    "# 01 - EDA & Data Understanding\n",
    "\n",
    "Bu notebook'ta veri kümesini yüklüyoruz, eksik değer kontrolü yapıyoruz ve temel dağılımlara bakıyoruz."
   ]
  },
  {
   "cell_type": "code",
   "execution_count": null,
   "id": "53487434",
   "metadata": {},
   "outputs": [],
   "source": [
    "import pandas as pd\n",
    "import seaborn as sns\n",
    "import matplotlib.pyplot as plt\n",
    "from pathlib import Path\n",
    "\n",
    "raw_path = Path('../data/raw/telco_churn.csv')  \n",
    "df = pd.read_csv(raw_path)\n",
    "df.head()\n"
   ]
  }
 ],
 "metadata": {
  "kernelspec": {
   "display_name": ".venv",
   "language": "python",
   "name": "python3"
  },
  "language_info": {
   "name": "python",
   "version": "3.9.0"
  }
 },
 "nbformat": 4,
 "nbformat_minor": 5
}
